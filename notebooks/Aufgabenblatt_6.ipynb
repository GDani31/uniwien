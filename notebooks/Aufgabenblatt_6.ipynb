{
 "cells": [
  {
   "cell_type": "markdown",
   "metadata": {},
   "source": [
    "# Aufgabenblatt 6"
   ]
  },
  {
   "cell_type": "markdown",
   "metadata": {},
   "source": [
    "## Eindimensionale Analysis – Unbestimmte Integrale"
   ]
  },
  {
   "cell_type": "markdown",
   "metadata": {},
   "source": [
    "### Aufgabe 1\n",
    "\n",
    "Berechnen Sie folgendes unbestimmtes Integral:\n",
    "\n",
    "$$\n",
    "\\int \\frac{dx}{x\\log{x}}\n",
    "$$"
   ]
  },
  {
   "cell_type": "markdown",
   "metadata": {},
   "source": [
    "### Aufgabe 2\n",
    "\n",
    "Berechnen Sie mittels partieller Integration:\n",
    "\n",
    "$$\n",
    "\\int \\sin{x}\\cos{x}dx\n",
    "$$"
   ]
  },
  {
   "cell_type": "markdown",
   "metadata": {},
   "source": [
    "### Aufgabe 3\n",
    "\n",
    "Berechnen Sie mittels partieller Integration:\n",
    "\n",
    "$$\n",
    "\\int x\\arctan{x}dx\n",
    "$$"
   ]
  },
  {
   "cell_type": "markdown",
   "metadata": {},
   "source": [
    "### Aufgabe 4\n",
    "\n",
    "Berechnen Sie mittels partieller Integration:\n",
    "\n",
    "$$\n",
    "\\int x^2\\sin{x}dx\n",
    "$$"
   ]
  },
  {
   "cell_type": "markdown",
   "metadata": {},
   "source": [
    "### Aufgabe 5\n",
    "\n",
    "Berechnen Sie mittels partieller Integration:\n",
    "\n",
    "$$\n",
    "\\int \\log{x}dx\n",
    "$$"
   ]
  },
  {
   "cell_type": "markdown",
   "metadata": {},
   "source": [
    "### Aufgabe 6\n",
    "\n",
    "Berechnen Sie $\\int \\frac{dx}{\\sin{x}}$. Hinweis: Verwenden Sie die\n",
    "Substitution: $u=\\tan{\\frac{x}{2}}$."
   ]
  },
  {
   "cell_type": "markdown",
   "metadata": {},
   "source": [
    "### Aufgabe 7\n",
    "\n",
    "Berechnen Sie $\\int x^2\\sqrt{1-x^2}dx$. Hinweis: Verwenden Sie die\n",
    "Substitution: $x=\\sin{t}$."
   ]
  },
  {
   "cell_type": "markdown",
   "metadata": {},
   "source": [
    "### Aufgabe 8\n",
    "\n",
    "Berechnen Sie $\\int x\\sqrt{1+x^2}dx$. Hinweis: Verwenden Sie die\n",
    "Substitution: $x=\\sinh{t}$."
   ]
  }
 ],
 "metadata": {
  "kernelspec": {
   "display_name": "Python 3",
   "language": "python",
   "name": "python3"
  },
  "language_info": {
   "codemirror_mode": {
    "name": "ipython",
    "version": 3
   },
   "file_extension": ".py",
   "mimetype": "text/x-python",
   "name": "python",
   "nbconvert_exporter": "python",
   "pygments_lexer": "ipython3",
   "version": "3.7.8"
  }
 },
 "nbformat": 4,
 "nbformat_minor": 2
}
