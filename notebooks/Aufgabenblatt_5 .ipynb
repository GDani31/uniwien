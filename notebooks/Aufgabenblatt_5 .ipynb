{
 "cells": [
  {
   "cell_type": "markdown",
   "metadata": {},
   "source": [
    "# Aufgabenblatt 5"
   ]
  },
  {
   "cell_type": "markdown",
   "metadata": {},
   "source": [
    "## Eindimensionale Analysis – Taylorreihen"
   ]
  },
  {
   "cell_type": "markdown",
   "metadata": {},
   "source": [
    "### Aufgabe 1\n",
    "\n",
    "Entwickeln Sie die Funktion $f(x)=e^{\\cos(x)-1}$ in eine Taylorreihe\n",
    "um den Nullpunkt bis zum Glied 2. Ordnung. Verwenden Sie SymPy, um\n",
    "Ihr Ergebnis zu überprüfen und weitere Glieder bis zum Glied 10.\n",
    "Ordnung zu bestimmen. Stellen Sie die Funktion sowie die\n",
    "fortschreitende Approximation durch zusätzliche Glieder der\n",
    "Taylorreihe bis zum Glied 10. Ordnung auch grafisch dar. Bestimmen\n",
    "Sie mittels ihrer Taylorreihen unter Verwendung von SymPy für $x=0.15$ die fortschreitende Approximation für den Funktionswert bis zum Glied 10. Ordnung."
   ]
  },
  {
   "cell_type": "markdown",
   "metadata": {},
   "source": [
    "### Aufgabe 2\n",
    "\n",
    "Entwickeln Sie die Funktion $f(x)=\\tan{x}$ in eine Taylorreihe\n",
    "um den Nullpunkt bis zum Glied 3. Ordnung.\n",
    "\n",
    "Plotten Sie die Funktion und die Taylorreihe."
   ]
  },
  {
   "cell_type": "markdown",
   "metadata": {},
   "source": [
    "### Aufgabe 3\n",
    "\n",
    "Entwickeln Sie die Funktion $f(x)=1/\\cos{x}$ in eine Taylorreihe\n",
    "um den Nullpunkt bis zum Glied 2. Ordnung.\n",
    "\n",
    "Plotten Sie die Funktion und die Taylorreihe."
   ]
  },
  {
   "cell_type": "markdown",
   "metadata": {},
   "source": [
    "### Aufgabe 4\n",
    "\n",
    "Entwickeln Sie die Funktion $f(x)=\\arcsin{x}$ in eine Taylorreihe\n",
    "um den Nullpunkt bis zum Glied 3. Ordnung.\n",
    "\n",
    "Plotten Sie die Funktion und die Taylorreihe."
   ]
  },
  {
   "cell_type": "markdown",
   "metadata": {},
   "source": [
    "### Aufgabe 5\n",
    "\n",
    "Entwickeln Sie die Funktion $f(x)=\\ln{\\frac{1+x}{1-x}}$ in eine Taylorreihe um den Nullpunkt bis zum Glied 3. Ordnung.\n",
    "\n",
    "Plotten Sie die Funktion und die Taylorreihe."
   ]
  },
  {
   "cell_type": "markdown",
   "metadata": {},
   "source": [
    "### Aufgabe 6\n",
    "\n",
    "\n",
    "Entwickeln Sie die Funktion $f(x)=\\arctan{\\frac{x}{1+x}}$ in eine Taylorreihe um den Nullpunkt bis zum Glied 3. Ordnung.\n",
    "\n",
    "Plotten Sie die Funktion und die Taylorreihe."
   ]
  },
  {
   "cell_type": "markdown",
   "metadata": {},
   "source": [
    "### Aufgabe 7\n",
    "\n",
    "Entwickeln Sie die Funktion $f(x)=e^{\\sin(x)}$ in eine Taylorreihe\n",
    "um den Nullpunkt bis zum Glied 4. Ordnung.\n",
    "\n",
    "Plotten Sie die Funktion und die Taylorreihe."
   ]
  },
  {
   "cell_type": "markdown",
   "metadata": {},
   "source": [
    "### Aufgabe 8\n",
    "\n",
    "Entwickeln Sie die Funktion $f(x)=\\frac{1-\\cos{x}}{\\ln(x+1)}$ in eine Taylorreihe um den Nullpunkt bis zum Glied 1. Ordnung.\n",
    "\n",
    "Plotten Sie die Funktion und die Taylorreihe."
   ]
  },
  {
   "cell_type": "code",
   "execution_count": null,
   "metadata": {},
   "outputs": [],
   "source": []
  }
 ],
 "metadata": {
  "kernelspec": {
   "display_name": "Python 3",
   "language": "python",
   "name": "python3"
  },
  "language_info": {
   "codemirror_mode": {
    "name": "ipython",
    "version": 3
   },
   "file_extension": ".py",
   "mimetype": "text/x-python",
   "name": "python",
   "nbconvert_exporter": "python",
   "pygments_lexer": "ipython3",
   "version": "3.7.8"
  }
 },
 "nbformat": 4,
 "nbformat_minor": 2
}
