{
 "cells": [
  {
   "cell_type": "markdown",
   "metadata": {},
   "source": [
    "# Aufgabenblatt 9"
   ]
  },
  {
   "cell_type": "markdown",
   "metadata": {},
   "source": [
    "## Mehrdimensionale Analysis – Partielle Ableitungen 2"
   ]
  },
  {
   "cell_type": "markdown",
   "metadata": {},
   "source": [
    "### Aufgabe 1\n",
    "\n",
    "Stellen Sie die Gleichung der Tangentialebene von $f(x,y)=x^2y^3$ im\n",
    "Punkt $P(1|-1)$ auf."
   ]
  },
  {
   "cell_type": "markdown",
   "metadata": {},
   "source": [
    "### Aufgabe 2\n",
    "\n",
    "Die Gleichung einer Fläche $F$ lautet $x^2yz+3y^2-2xz^2+8z=0$.\n",
    "\n",
    "a) Wie lautet die Gleichung der Normalen im Punkt $(1,2,-1)$?  \n",
    "b) Wie lautet die Gleichung der Tangentialebene im Punkt\n",
    "$(1,2,-1)$? Hinweis: Gleichung der Tangentialebene: $\\nabla\n",
    "F(x_0)(x-x_0)=0.$ "
   ]
  },
  {
   "cell_type": "markdown",
   "metadata": {},
   "source": [
    "### Aufgabe 3\n",
    "\n",
    "Es sei folgendes Vektorfeld gegeben:\n",
    "\n",
    "$$\n",
    "\\mathbf{V}=\\left(\n",
    "\\begin{array}{c}\n",
    " x^2z \\\\\n",
    " -2y^3z^2\\\\\n",
    "xy^2z\n",
    "  \\end{array} \\right)\n",
    "$$\n",
    "\n",
    "Die Divergenz eines Vektorfeldes $\\mathbf{V}$ ist definiert als das\n",
    "skalare Produkt des Nabla-Operators mit $\\mathbf{V}$:\n",
    "div$\\mathbf{V}=\\nabla\\cdot \\mathbf{V}$. Bestimmen Sie\n",
    "div$\\mathbf{V}$ im Punkt $(1,-1,1)$.\n"
   ]
  },
  {
   "cell_type": "markdown",
   "metadata": {},
   "source": [
    "### Aufgabe 4\n",
    "\n",
    "Es sei folgendes Vektorfeld gegeben:\n",
    "\n",
    "$$\n",
    "\\mathbf{V}=\\left(\n",
    "\\begin{array}{c}\n",
    " xz^3 \\\\\n",
    " -2x^2yz\\\\\n",
    "2yz^4\n",
    "  \\end{array} \\right)\n",
    "$$\n",
    "\n",
    "Die Rotation eines Vektorfeldes $\\mathbf{V}$ ist definiert als das\n",
    "vektorielle Produkt des Nabla-Operators mit $\\mathbf{V}$:\n",
    "rot$\\mathbf{V}=\\nabla\\times \\mathbf{V}$. Bestimmen Sie\n",
    "rot$\\mathbf{V}$ im Punkt $(1,-1,1)$.\n"
   ]
  },
  {
   "cell_type": "markdown",
   "metadata": {},
   "source": [
    "### Aufgabe 5\n",
    "\n",
    "Bilden Sie das vollständige Differential nachstehender Funktionen:\n",
    "\n",
    "a) $f(x,y)=x^2y$  \n",
    "b) $f(x,y)=e^{x/y}$  \n",
    "c) $f(x,y)=\\sqrt{x^2+y^2}$\n"
   ]
  },
  {
   "cell_type": "markdown",
   "metadata": {},
   "source": [
    "### Aufgabe 6\n",
    "\n",
    "Der Flächeninhalt eines Kreisabschnitts ergibt sich aus\n",
    "$A=\\frac{r^2}{2}(\\alpha-\\sin{\\alpha})$ für $\\alpha$ im Bogenmaß. Wie\n",
    "groß ist der maximale Fehler von $A$, wenn $r=(8.2\\pm0.05)$ cm und\n",
    "$\\alpha=(126\\pm1)^\\circ$ gemessen wurden.\n"
   ]
  },
  {
   "cell_type": "markdown",
   "metadata": {},
   "source": [
    "### Aufgabe 7\n",
    "\n",
    "In einem Gleichstromkreis wurden $U=(220\\pm3) \\textrm{V}$,$R_1=(78\\pm1) \\Omega$\n",
    "und $R_2=(54\\pm1) \\Omega$ gemessen. Wie groß ist der maximale Fehler\n",
    "der Stromstärke $I$ bei Serienschaltung:\n",
    "\n",
    "$$\n",
    "I=U/(R_1+R_2)\n",
    "$$\n",
    "\n"
   ]
  },
  {
   "cell_type": "markdown",
   "metadata": {},
   "source": [
    "### Aufgabe 8\n",
    "\n",
    "In Fortsetzung des vorangegangengen Beispiels, wie groß ist der maximale Fehler\n",
    "der Stromstärke $I$ bei Parallelschaltung: \n",
    "\n",
    "$$\n",
    "I=U/R_1+U/R_2\n",
    "$$\n",
    "\n"
   ]
  }
 ],
 "metadata": {
  "kernelspec": {
   "display_name": "Python 3",
   "language": "python",
   "name": "python3"
  },
  "language_info": {
   "codemirror_mode": {
    "name": "ipython",
    "version": 3
   },
   "file_extension": ".py",
   "mimetype": "text/x-python",
   "name": "python",
   "nbconvert_exporter": "python",
   "pygments_lexer": "ipython3",
   "version": "3.7.8"
  }
 },
 "nbformat": 4,
 "nbformat_minor": 2
}
