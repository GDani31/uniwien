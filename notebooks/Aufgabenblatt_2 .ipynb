{
 "cells": [
  {
   "cell_type": "markdown",
   "metadata": {},
   "source": [
    "# Aufgabenblatt 2"
   ]
  },
  {
   "cell_type": "markdown",
   "metadata": {},
   "source": [
    "## Eindimensionale Analysis – Differentialrechnung 2"
   ]
  },
  {
   "cell_type": "markdown",
   "metadata": {},
   "source": [
    "### Aufgabe 1\n",
    "\n",
    "Berechnen Sie $y'$ durch implizite Differentiation:\n",
    "\n",
    "a) $$x^2+y^2-r^2=0,r \\in \\mathbb{R}$$"
   ]
  },
  {
   "cell_type": "markdown",
   "metadata": {},
   "source": [
    "b) $$e^{xy}=2$$"
   ]
  },
  {
   "cell_type": "markdown",
   "metadata": {},
   "source": [
    "### Aufgabe 2\n",
    "\n",
    "Berechnen Sie $y'$ durch implizite Differentiation:\n",
    "\n",
    "a) $$xy-\\log{y}=2$$"
   ]
  },
  {
   "cell_type": "markdown",
   "metadata": {},
   "source": [
    "b) $$yx^2-e^y=0$$\n"
   ]
  },
  {
   "cell_type": "markdown",
   "metadata": {},
   "source": [
    "### Aufgabe 3\n",
    "\n",
    "Ermitteln Sie $y'$ durch Logarithmieren und anschließendes Ableiten:\n",
    "\n",
    "$$y=\\sqrt[x]{x}$$\n"
   ]
  },
  {
   "cell_type": "markdown",
   "metadata": {},
   "source": [
    "### Aufgabe 4\n",
    "\n",
    "Ermitteln Sie $y'$ durch Logarithmieren und anschließendes Ableiten:\n",
    "\n",
    "\n",
    "$$y=(\\sin{x})^{\\cos{x}}$$"
   ]
  },
  {
   "cell_type": "markdown",
   "metadata": {},
   "source": [
    "### Aufgabe 5\n",
    "\n",
    "Ermitteln Sie $y'$ durch Logarithmieren und anschließendes Ableiten:\n",
    "\n",
    "\n",
    "$$y=\\sqrt[5]{\\frac{(x-1)(x+2)}{x^2-3}}$$\n"
   ]
  },
  {
   "cell_type": "markdown",
   "metadata": {},
   "source": [
    "### Aufgabe 6\n",
    "\n",
    "\n",
    "Berechnen Sie im Punkt $P_{0}(1|y_{0})$ die Krümmung der Kurve\n",
    "$y=x^3$. Hinweis: die Krümmung $\\kappa$ einer Kurve ist definiert\n",
    "als $\\kappa=\\frac{y''}{(1+y'^2)^{3/2}}$.\n"
   ]
  },
  {
   "cell_type": "markdown",
   "metadata": {},
   "source": [
    "### Aufgabe 7\n",
    "\n",
    "Bestimmen Sie den Krümmungsradius und den Krümmungsmittelpunkt im\n",
    "Punkt $P_{0}(1|y_{0})$ der Kurve $y=\\sqrt{x}$. Hinweis: der\n",
    "Krümmungsradius $\\rho=\\frac{1}{\\kappa}$, die Koordinaten des\n",
    "Krümmungsmittelpunktes $M(x_{M}|y_{M}):\n",
    "x_{M}=x-\\frac{y'}{y''}(1+y'^2), y_{M}=y+\\frac{1}{y''}(1+y'^2)$. Plotten Sie die Kurve $y$ und den Krümmungskreis.\n"
   ]
  },
  {
   "cell_type": "markdown",
   "metadata": {},
   "source": [
    "### Aufgabe 8\n",
    "\n",
    "Wo ist die Kurve $y=\\log{x}$ am stärksten gekrümmt? Hinweis:\n",
    "Bestimmen Sie die Krümmung $\\kappa$, substituieren Sie $z=1/x^2$ und\n",
    "finden Sie das Maximum für $\\kappa^2$."
   ]
  }
 ],
 "metadata": {
  "kernelspec": {
   "display_name": "Python 3",
   "language": "python",
   "name": "python3"
  },
  "language_info": {
   "codemirror_mode": {
    "name": "ipython",
    "version": 3
   },
   "file_extension": ".py",
   "mimetype": "text/x-python",
   "name": "python",
   "nbconvert_exporter": "python",
   "pygments_lexer": "ipython3",
   "version": "3.7.8"
  }
 },
 "nbformat": 4,
 "nbformat_minor": 2
}
