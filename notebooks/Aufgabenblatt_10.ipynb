{
 "cells": [
  {
   "cell_type": "markdown",
   "metadata": {},
   "source": [
    "# Aufgabenblatt 10"
   ]
  },
  {
   "cell_type": "markdown",
   "metadata": {},
   "source": [
    "## Mehrdimensionale Analysis – Partielle Ableitungen 3"
   ]
  },
  {
   "cell_type": "markdown",
   "metadata": {},
   "source": [
    "### Aufgabe 1\n",
    "\n",
    "Bestimmen Sie die Definitheit der folgenden quadratischen Form\n",
    "$\\boldsymbol{x}^tA \\boldsymbol{x}$:\n",
    "\n",
    "$$\n",
    "A= \\left( \\begin{array}{ccc}\n",
    "                                      1 & 2 & 1\\\\\n",
    "                                      2 & 1 & 1\\\\\n",
    "                                      1 & 1 & 4\\\\\n",
    "                                    \\end{array} \\right)\n",
    "$$\n"
   ]
  },
  {
   "cell_type": "markdown",
   "metadata": {},
   "source": [
    "### Aufgabe 2\n",
    "\n",
    "Bestimmen Sie die Definitheit der folgenden quadratischen Form\n",
    "$\\boldsymbol{x}^tA \\boldsymbol{x}$:\n",
    "\n",
    "$$\n",
    "A= \\left( \\begin{array}{ccc}\n",
    "                                      2 & 1 & 1\\\\\n",
    "                                      1 & 2 & 3\\\\\n",
    "                                      1 & 3 & 5\\\\\n",
    "                                    \\end{array} \\right)\n",
    "$$\n"
   ]
  },
  {
   "cell_type": "markdown",
   "metadata": {},
   "source": [
    "### Aufgabe 3\n",
    "\n",
    "Bestimmen Sie die Definitheit der folgenden quadratischen Form\n",
    "$\\boldsymbol{x}^tA \\boldsymbol{x}$:\n",
    "\n",
    "$$\n",
    "A= \\left( \\begin{array}{ccc}\n",
    "                                      -2 & 1 & 2\\\\\n",
    "                                      1 & -3 & -2\\\\\n",
    "                                      2 & -2 & -4\\\\\n",
    "                                    \\end{array} \\right)\n",
    "$$"
   ]
  },
  {
   "cell_type": "markdown",
   "metadata": {},
   "source": [
    "### Aufgabe 4\n",
    "\n",
    "Bestimmen Sie die lokalen Extrema von $\\boldsymbol{x}^tA \\boldsymbol{x}+\\boldsymbol{b}^t \\boldsymbol{x}, A= \\left(\n",
    "\\begin{array}{cc}\n",
    "                                      1 & \\frac{1}{2}\\\\\n",
    "                                      \\frac{1}{2} & 1\\\\\n",
    "                                    \\end{array} \\right), \\boldsymbol{b} = \\left( \\begin{array}{c}\n",
    "                                      -3\\\\\n",
    "                                      -2\\\\\n",
    "                                    \\end{array} \\right)$ und geben Sie mit Hilfe der Hesse'schen Matrix an, ob Minima oder\n",
    "Maxima vorliegen.\n"
   ]
  },
  {
   "cell_type": "markdown",
   "metadata": {},
   "source": [
    "### Aufgabe 5\n",
    "\n",
    "Bestimmen Sie die lokalen Extrema von $\\boldsymbol{x}^t A \\boldsymbol{x}+\\boldsymbol{b}^t \\boldsymbol{x}, A= -\\left(\n",
    "\\begin{array}{ccc}\n",
    "                                      2 & 1 & 1\\\\\n",
    "                                      1 & 2 & 1\\\\\n",
    "                                      1 & 1 & 2\\\\\n",
    "                                    \\end{array} \\right), \\boldsymbol{b} = \n",
    "                                    \\left( \\begin{array}{c}\n",
    "                                      -1\\\\\n",
    "                                      0\\\\\n",
    "                                       1\\\\\n",
    "                                    \\end{array} \\right)$ und geben Sie mit Hilfe der Hesse'schen Matrix an, ob Minima oder Maxima vorliegen.\n"
   ]
  },
  {
   "cell_type": "markdown",
   "metadata": {},
   "source": [
    "### Aufgabe 6\n",
    "\n",
    "Untersuchen Sie folgende Funktionen auf Extrema und Sattelpunkte:\n",
    "\n",
    "a) $f(x,y)=x^2+y^2, D_f=\\mathbb{R}^2$  \n",
    "b) $f(x,y)=x^2-y^2, D_f=\\mathbb{R}^2$\n",
    "\n",
    "Plotten Sie die Funktionen."
   ]
  },
  {
   "cell_type": "markdown",
   "metadata": {},
   "source": [
    "### Aufgabe 7\n",
    "\n",
    "Untersuchen Sie die Funktion $f(x,y)=y^3+2x^2y-x^2-3y^2+1$ auf\n",
    "Extrema und Sattelpunkte.\n",
    "\n",
    "Plotten Sie die Funktion."
   ]
  },
  {
   "cell_type": "markdown",
   "metadata": {},
   "source": [
    "### Aufgabe 8\n",
    "\n",
    "Untersuchen Sie die Funktion $f(x,y)=x^3+y^3-3x-12y+20$ auf\n",
    "Extrema und Sattelpunkte.\n",
    "\n",
    "Plotten Sie die Funktion."
   ]
  }
 ],
 "metadata": {
  "kernelspec": {
   "display_name": "Python 3",
   "language": "python",
   "name": "python3"
  },
  "language_info": {
   "codemirror_mode": {
    "name": "ipython",
    "version": 3
   },
   "file_extension": ".py",
   "mimetype": "text/x-python",
   "name": "python",
   "nbconvert_exporter": "python",
   "pygments_lexer": "ipython3",
   "version": "3.7.8"
  }
 },
 "nbformat": 4,
 "nbformat_minor": 2
}
