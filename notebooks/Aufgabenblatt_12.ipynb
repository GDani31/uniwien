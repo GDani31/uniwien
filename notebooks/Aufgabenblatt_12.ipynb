{
 "cells": [
  {
   "cell_type": "markdown",
   "metadata": {},
   "source": [
    "# Aufgabenblatt 12"
   ]
  },
  {
   "cell_type": "markdown",
   "metadata": {},
   "source": [
    "## Mehrdimensionale Analysis – Mehrfachintegrale 2"
   ]
  },
  {
   "cell_type": "markdown",
   "metadata": {},
   "source": [
    "### Aufgabe 1\n",
    "\n",
    "Berechnen Sie das Integral der Funktion $f$ über dem angegebenen\n",
    "Bereich:\n",
    "\n",
    "$$f(x_1,x_2,x_3)=1, B=\\{(x_1,x_2,x_3)\\in \\mathbb{R}^3|x_1+2x_2+3x_3 \\leq\n",
    "1, x_1>0, x_2>0, x_3>0\\}$$"
   ]
  },
  {
   "cell_type": "markdown",
   "metadata": {},
   "source": [
    "### Aufgabe 2\n",
    "\n",
    "Berechnen Sie das Integral der Funktion $f$ über dem angegebenen\n",
    "Bereich sowohl in kartesischen als auch in Polarkoordinaten:\n",
    "\n",
    "$$\n",
    "f(x_1,x_2)=|x_1x_2|, B=\\{(x_1,x_2)\\in \\mathbb{R}^2|x_1^2+x_2^2 \\leq\n",
    "1\\}\n",
    "$$\n",
    "\n",
    "Plotten Sie $B$."
   ]
  },
  {
   "cell_type": "markdown",
   "metadata": {},
   "source": [
    "### Aufgabe 3\n",
    "\n",
    "Berechnen Sie das Integral über dem angegebenen Bereich:\n",
    "$$\n",
    "\\int_B\\sqrt{x^2+y^2}dxdy, B=\\{(x,y)\\in \\mathbb{R}^2|0\\leq x \\leq\n",
    "y, x^2+y^2\\leq 1\\}\n",
    "$$"
   ]
  },
  {
   "cell_type": "markdown",
   "metadata": {},
   "source": [
    "### Aufgabe 4\n",
    "\n",
    "Berechnen Sie das Volumen zwischen den beiden Flächen\n",
    "\n",
    "$$\n",
    "f(x,y)=0.9(x^2+y^2)+0.1, g(x,y)=x^2+y^2\n",
    "$$\n",
    "\n",
    "auf dem Integrationsbereich\n",
    "\n",
    "$$\n",
    "B=\\left\\{\\left(\n",
    "\\begin{array}{c}\n",
    " x \\\\\n",
    " y\n",
    "  \\end{array} \\right)\\Big|\\begin{array}{c}\n",
    " -1 \\leq x \\leq 1 \\\\\n",
    " -\\sqrt{1-x^2} \\leq y \\leq \\sqrt{1-x^2}\n",
    "  \\end{array}\\right\\}.\n",
    "$$\n",
    "\n",
    "Plotten Sie den Schnitt der beiden Flächen mit der 𝑥𝑧-Ebene."
   ]
  },
  {
   "cell_type": "markdown",
   "metadata": {},
   "source": [
    "### Aufgabe 5\n",
    "\n",
    "Berechnen Sie das Integral über den Bereich $B$, der durch $x+y=1,\n",
    "x=0, y=0$ begrenzt wird:\n",
    "\n",
    "$$\n",
    "\\iint\\cos\\frac{x-y}{x+y}dxdy\n",
    "$$\n",
    "\n",
    "Hinweis: Verwenden Sie die Transformation $u=x-y, v=x+y$\n",
    "\n",
    "Plotten Sie $B$ vor und nach der Transformation."
   ]
  },
  {
   "cell_type": "markdown",
   "metadata": {},
   "source": [
    "### Aufgabe 6\n",
    "\n",
    "Berechnen Sie das Volumen des Gebietes $R$ oberhalb der $xy$-Ebene,\n",
    "welches durch das Paraboloid $z=x^2+y^2$ und den Zylinder\n",
    "$x^2+y^2=a^2$ begrenzt wird.\n",
    "\n",
    "Verwenden Sie Zylinderkoordinaten:\n",
    "\n",
    "$$\n",
    "(r,\\varphi,z),x=r\\cos{\\varphi}, y=r\\sin{\\varphi}, z=z, V=\\iiint_Rdxdydz=\\iiint_{R'}rdrd\\varphi dz\n",
    "$$\n",
    "\n",
    "Die Gleichung des Paraboloids lautet dann $z=r^2$, die des Zylinders\n",
    "$r=a$."
   ]
  },
  {
   "cell_type": "markdown",
   "metadata": {},
   "source": [
    "### Aufgabe 7\n",
    "\n",
    "Berechnen Sie das Volumen des Gebietes $R$, welches nach oben durch\n",
    "die Kugel $x^2+y^2+z^2=a^2$ und nach unten durch den Kegel\n",
    "$z^2\\sin^2\\alpha=(x^2+y^2)\\cos^2\\alpha$ begrenzt wird. $\\alpha$ gibt\n",
    "hierbei den Winkel zwischen positiver $z$-Achse und Erzeugender an,\n",
    "wobei die Spitze des Kegels im Ursprung liegt.\n",
    "\n",
    "Verwenden Sie Kugelkoordinaten:\n",
    "\n",
    "$$\n",
    "(r,\\theta,\\varphi),x=r\\sin\\theta\\cos{\\varphi}, y=r\\sin\\theta\\sin{\\varphi}, z=r\\cos\\theta\n",
    "$$\n",
    "\n",
    "$$\n",
    "V=\\iiint_Rdxdydz=\\iiint_{R'}r^2\\sin\\theta drd\\theta d\\varphi\n",
    "$$\n",
    "\n",
    "Der Radius $r$ ist der Abstand des Punktes vom Ursprung, also die\n",
    "Länge des Vektors $\\boldsymbol{r}$, der Polarwinkel $\\theta$ ist der\n",
    "Winkel zwischen positiver $z$-Achse und $\\boldsymbol{r}$, und der\n",
    "Azimutwinkel $\\varphi$ ist der Winkel zwischen positiver $x$-Achse\n",
    "und $\\boldsymbol{r}_{xy}$, der Projektion von $\\boldsymbol{r}$ in\n",
    "die $xy$-Ebene.\n",
    "\n",
    "Die Gleichung der Kugelfläche vereinfacht sich somit zu $r=a$ und\n",
    "die des Kegelmantels zu $\\theta=\\alpha$.\n",
    "\n",
    "Leiten Sie aus Ihrem Ergebnis das Volumen einer Kugel her.\n"
   ]
  },
  {
   "cell_type": "markdown",
   "metadata": {},
   "source": [
    "### Aufgabe 8\n",
    "\n",
    "In Fortsetzung der vorangegangen Aufgabe ist der Schwerpunkt des Gebietes $R$ gesucht:\n",
    "\n",
    "$$\n",
    "x_0=0,y_0=0,z_0=\\frac{M_{xy}}{V},M_{xy}=\\iiint_{R'}zr^2\\sin\\theta drd\\theta d\\varphi$$\n",
    "\n",
    "Leiten Sie aus Ihrem Ergebnis den Schwerpunkt einer Halbkugel her."
   ]
  }
 ],
 "metadata": {
  "kernelspec": {
   "display_name": "Python 3",
   "language": "python",
   "name": "python3"
  },
  "language_info": {
   "codemirror_mode": {
    "name": "ipython",
    "version": 3
   },
   "file_extension": ".py",
   "mimetype": "text/x-python",
   "name": "python",
   "nbconvert_exporter": "python",
   "pygments_lexer": "ipython3",
   "version": "3.7.9"
  }
 },
 "nbformat": 4,
 "nbformat_minor": 2
}
