{
 "cells": [
  {
   "cell_type": "markdown",
   "metadata": {},
   "source": [
    "# Aufgabenblatt 8"
   ]
  },
  {
   "cell_type": "markdown",
   "metadata": {},
   "source": [
    "## Mehrdimensionale Analysis – Partielle Ableitungen 1"
   ]
  },
  {
   "cell_type": "markdown",
   "metadata": {},
   "source": [
    "### Aufgabe 1\n",
    "\n",
    "Gegeben sei die Funktion $f(x,y)=\\frac{xy}{x^2+y^2}$\n",
    "\n",
    "a) Bestimmen Sie den Definitionsbereich $D_{f}$  \n",
    "b) Zeigen Sie, dass $\\lim_{(x,y)\\rightarrow (0,0)}f(x,y)$ nicht\n",
    "existiert (Hinweis: Nähern Sie sich dem Ursprung auf einer Geraden\n",
    "$g:y=kx$)  \n",
    "c) Bestimmen Sie die Niveaumenge $N_{f}(0)=\\{(x,y)|f(x,y)=0\\}$  \n",
    "d) Berechnen Sie die partiellen Ableitungen an der Stelle\n",
    "$(1|2)$  \n",
    "e) Plotten Sie die Funktion  "
   ]
  },
  {
   "cell_type": "markdown",
   "metadata": {},
   "source": [
    "### Aufgabe 2\n",
    "\n",
    "Berechnen Sie die partiellen Ableitungen und bilden Sie den\n",
    "Gradientenvektor:\n",
    "\n",
    "a) $f(x,y)=\\cos{(xy)}$  \n",
    "b) $f(x,y)=\\sin{x}\\cos{y}-\\sin{y}\\cos{x}$  "
   ]
  },
  {
   "cell_type": "markdown",
   "metadata": {},
   "source": [
    "### Aufgabe 3\n",
    "\n",
    "Berechnen Sie die partiellen Ableitungen und bilden Sie den\n",
    "Gradientenvektor:\n",
    "\n",
    "a) $f(x,y,z)=e^{xyz}$  \n",
    "b) $f(x_{1},x_{2},x_{3})=x_{1}^{(x_{2}+x_{3})}$"
   ]
  },
  {
   "cell_type": "markdown",
   "metadata": {},
   "source": [
    "### Aufgabe 4\n",
    "\n",
    "Berechnen Sie die Jacobimatrix $\\nabla f$ von\n",
    "$f(x_{1},x_{2},x_{3})=\\left(\n",
    "\\begin{array}{c}\n",
    " \\sqrt{x_{1}x_{2}x_{3}} \\\\\n",
    " \\sin{(x_{1}x_{2}x_{3})}\n",
    "  \\end{array} \\right)$.  \n"
   ]
  },
  {
   "cell_type": "markdown",
   "metadata": {},
   "source": [
    "### Aufgabe 5\n",
    "\n",
    "Berechnen Sie den Gradientenvektor und die Hesse'sche Matrix:\n",
    "\n",
    "a) $f(x_{1},x_{2})=x_{1}^2+x_{2}^2$  \n",
    "b) $f(x_{1},x_{2})=\\sin{x_{1}}\\cos{x_{2}}+2x_{1}x_2$\n"
   ]
  },
  {
   "cell_type": "markdown",
   "metadata": {},
   "source": [
    "### Aufgabe 6\n",
    "\n",
    "Berechnen Sie den Gradientenvektor und die Hesse'sche Matrix:\n",
    "\n",
    "a) $f(x_{1},x_{2})=e^{x_{1}^2+x_{2}^2}$  \n",
    "b) $f(x_{1},x_{2},x_3)=2x_1x_2+3x_2-x_3^2$\n"
   ]
  },
  {
   "cell_type": "markdown",
   "metadata": {},
   "source": [
    "### Aufgabe 7\n",
    "\n",
    "Finden Sie die Richtungsableitung von $f(x,y,z)=x^2yz+4xz^2$ im\n",
    "Punkt $(1,-2,-1)$ in Richtung $(2,-1,-2)$."
   ]
  },
  {
   "cell_type": "markdown",
   "metadata": {},
   "source": [
    "### Aufgabe 8\n",
    "\n",
    "Berechnen Sie die Richtungsableitung von $f(x,y,z)=x^2yz^3$ längs der Kurve\n",
    "\n",
    "$$\n",
    "r(u)=\\left(\n",
    "\\begin{array}{c}\n",
    " e^{-u} \\\\\n",
    " 2\\sin{u}+1\\\\\n",
    "u-\\cos{u}\n",
    "  \\end{array} \\right)\n",
    "$$\n",
    "\n",
    "im Punkt $P$, in dem $u=0$ ist. Wie groß ist die maximale\n",
    "Richtungsableitung in $P$?"
   ]
  }
 ],
 "metadata": {
  "kernelspec": {
   "display_name": "Python 3",
   "language": "python",
   "name": "python3"
  },
  "language_info": {
   "codemirror_mode": {
    "name": "ipython",
    "version": 3
   },
   "file_extension": ".py",
   "mimetype": "text/x-python",
   "name": "python",
   "nbconvert_exporter": "python",
   "pygments_lexer": "ipython3",
   "version": "3.7.8"
  }
 },
 "nbformat": 4,
 "nbformat_minor": 2
}
