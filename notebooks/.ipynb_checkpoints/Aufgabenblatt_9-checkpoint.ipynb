{
 "cells": [
  {
   "cell_type": "markdown",
   "metadata": {},
   "source": [
    "# Aufgabenblatt 9"
   ]
  },
  {
   "cell_type": "markdown",
   "metadata": {},
   "source": [
    "## Mehrdimensionale Analysis – Partielle Ableitungen 2"
   ]
  },
  {
   "cell_type": "markdown",
   "metadata": {},
   "source": [
    "# Disclaimer\n",
    "\n",
    "ich habe fuer einige Aufgaben mit einem Kollegen zusammengearbeitet"
   ]
  },
  {
   "cell_type": "code",
   "execution_count": null,
   "metadata": {},
   "outputs": [],
   "source": [
    "import sympy as sp\n",
    "import matplotlib.pyplot as plt\n",
    "import numpy as np\n",
    "\n",
    "x, y, z = sp.symbols('x y z')"
   ]
  },
  {
   "cell_type": "markdown",
   "metadata": {},
   "source": [
    "### Aufgabe 1\n",
    "\n",
    "Stellen Sie die Gleichung der Tangentialebene von $f(x,y)=x^2y^3$ im\n",
    "Punkt $P(1|-1)$ auf."
   ]
  },
  {
   "cell_type": "markdown",
   "metadata": {},
   "source": [
    "$$\n",
    "\\begin{aligned}\n",
    "f_x &= \\frac{\\partial}{\\partial x}(x^2 y^3) = 2xy^3 \\\\\n",
    "f_y &= \\frac{\\partial}{\\partial y}(x^2 y^3) = 3x^2 y^2 \\\\\n",
    "f_x(1, -1) &= 2 \\cdot 1 \\cdot (-1)^3 = -2 \\\\\n",
    "f_y(1, -1) &= 3 \\cdot 1^2 \\cdot (-1)^2 = 3 \\\\\n",
    "z &= f(1, -1) + f_x(1, -1)(x - 1) + f_y(1, -1)(y + 1) \\\\\n",
    "z &= -1 - 2(x - 1) + 3(y + 1) \\\\\n",
    "z &= -1 - 2x + 2 + 3y + 3 \\\\\n",
    "z &= -2x + 3y + 4\n",
    "\\end{aligned}​\n",
    "$$"
   ]
  },
  {
   "cell_type": "code",
   "execution_count": null,
   "metadata": {},
   "outputs": [],
   "source": [
    "f = x**2 * y**3\n",
    "\n",
    "# Partielle Ableitungen\n",
    "f_x = sp.diff(f, x)\n",
    "f_y = sp.diff(f, y)\n",
    "\n",
    "# Punkt P(1, -1)\n",
    "P = (1, -1)\n",
    "z_P = f.subs({x: P[0], y: P[1]})\n",
    "f_x_P = f_x.subs({x: P[0], y: P[1]})\n",
    "f_y_P = f_y.subs({x: P[0], y: P[1]})\n",
    "\n",
    "# Tangentialebene\n",
    "z = z_P + f_x_P * (x - P[0]) + f_y_P * (y + 1)\n",
    "tangentialebene = sp.lambdify((x, y), z, 'numpy')"
   ]
  },
  {
   "cell_type": "markdown",
   "metadata": {},
   "source": [
    "### Aufgabe 2\n",
    "\n",
    "Die Gleichung einer Fläche $F$ lautet $x^2yz+3y^2-2xz^2+8z=0$.\n",
    "\n",
    "a) Wie lautet die Gleichung der Normalen im Punkt $(1,2,-1)$?  \n",
    "b) Wie lautet die Gleichung der Tangentialebene im Punkt\n",
    "$(1,2,-1)$? Hinweis: Gleichung der Tangentialebene: $\\nabla\n",
    "F(x_0)(x-x_0)=0.$ "
   ]
  },
  {
   "cell_type": "markdown",
   "metadata": {},
   "source": [
    "$$\n",
    "\\begin{aligned}\n",
    "\\nabla F &= \\left( \\frac{\\partial F}{\\partial x}, \\frac{\\partial F}{\\partial y}, \\frac{\\partial F}{\\partial z} \\right) \\\\\n",
    "\\frac{\\partial F}{\\partial x} &= 2xyz - 2z^2 \\\\\n",
    "\\frac{\\partial F}{\\partial y} &= x^2z + 6y \\\\\n",
    "\\frac{\\partial F}{\\partial z} &= x^2y - 4xz + 8 \\\\\n",
    "\\nabla F(1, 2, -1) &= (2 \\cdot 1 \\cdot 2 \\cdot (-1) - 2 \\cdot (-1)^2, 1^2 \\cdot (-1) + 6 \\cdot 2, 1^2 \\cdot 2 - 4 \\cdot 1 \\cdot (-1) + 8) \\\\\n",
    "&= (-4 - 2, -1 + 12, 2 + 4 + 8) \\\\\n",
    "&= (-6, 11, 14) \\\\\n",
    "\\end{aligned}\n",
    "$$\n",
    "Tangentialebene:\n",
    "$$\n",
    "-6(x - 1) + 11(y - 2) + 14(z + 1) = 0\n",
    "$$"
   ]
  },
  {
   "cell_type": "code",
   "execution_count": null,
   "metadata": {},
   "outputs": [],
   "source": [
    "F = x**2 * y * z + 3 * y**2 - 2 * x * z**2 + 8 * z\n",
    "\n",
    "# Gradient berechnen\n",
    "grad_F = sp.Matrix([sp.diff(F, var) for var in (x, y, z)])\n",
    "\n",
    "# Punkt (1, 2, -1)\n",
    "P = (1, 2, -1)\n",
    "grad_F_P = grad_F.subs({x: P[0], y: P[1], z: P[2]})\n",
    "\n",
    "# Normale im Punkt (1, 2, -1)\n",
    "normale = grad_F_P\n",
    "\n",
    "# Tangentialebene im Punkt (1, 2, -1)\n",
    "tangentialebene = normale.dot(sp.Matrix([x - P[0], y - P[1], z - P[2]]))\n",
    "\n",
    "normale, tangentialebene.simplify()"
   ]
  },
  {
   "cell_type": "markdown",
   "metadata": {},
   "source": [
    "### Aufgabe 3\n",
    "\n",
    "Es sei folgendes Vektorfeld gegeben:\n",
    "\n",
    "$$\n",
    "\\mathbf{V}=\\left(\n",
    "\\begin{array}{c}\n",
    " x^2z \\\\\n",
    " -2y^3z^2\\\\\n",
    "xy^2z\n",
    "  \\end{array} \\right)\n",
    "$$\n",
    "\n",
    "Die Divergenz eines Vektorfeldes $\\mathbf{V}$ ist definiert als das\n",
    "skalare Produkt des Nabla-Operators mit $\\mathbf{V}$:\n",
    "div$\\mathbf{V}=\\nabla\\cdot \\mathbf{V}$. Bestimmen Sie\n",
    "div$\\mathbf{V}$ im Punkt $(1,-1,1)$.\n"
   ]
  },
  {
   "cell_type": "markdown",
   "metadata": {},
   "source": [
    "\\begin{aligned}\n",
    "\\text{div}\\mathbf{V} &= 2xz + (-6y^2z^2) + xy^2 \\\\\n",
    "\\text{div}\\mathbf{V}(1, -1, 1) &= 2 \\cdot 1 \\cdot 1 + (-6 \\cdot (-1)^2 \\cdot 1) + 1 \\cdot (-1)^2 \\\\\n",
    "&= 2 - 6 + 1 \\\\\n",
    "&= -3\n",
    "\\end{aligned}"
   ]
  },
  {
   "cell_type": "code",
   "execution_count": null,
   "metadata": {},
   "outputs": [],
   "source": [
    "V = sp.Matrix([x**2 * z, -2 * y**3 * z**2, x * y**2 * z])\n",
    "\n",
    "# Divergenz berechnen\n",
    "div_V = sp.diff(V[0], x) + sp.diff(V[1], y) + sp.diff(V[2], z)\n",
    "\n",
    "# Divergenz im Punkt (1, -1, 1)\n",
    "div_V_P = div_V.subs({x: 1, y: -1, z: 1})\n",
    "\n",
    "div_V, div_V_P"
   ]
  },
  {
   "cell_type": "markdown",
   "metadata": {},
   "source": [
    "### Aufgabe 4\n",
    "\n",
    "Es sei folgendes Vektorfeld gegeben:\n",
    "\n",
    "$$\n",
    "\\mathbf{V}=\\left(\n",
    "\\begin{array}{c}\n",
    " xz^3 \\\\\n",
    " -2x^2yz\\\\\n",
    "2yz^4\n",
    "  \\end{array} \\right)\n",
    "$$\n",
    "\n",
    "Die Rotation eines Vektorfeldes $\\mathbf{V}$ ist definiert als das\n",
    "vektorielle Produkt des Nabla-Operators mit $\\mathbf{V}$:\n",
    "rot$\\mathbf{V}=\\nabla\\times \\mathbf{V}$. Bestimmen Sie\n",
    "rot$\\mathbf{V}$ im Punkt $(1,-1,1)$.\n"
   ]
  },
  {
   "cell_type": "markdown",
   "metadata": {},
   "source": [
    "Komponenten der Rotation\n",
    "$$\n",
    "\\begin{aligned}\n",
    "(\\nabla \\times \\mathbf{V})_x &= \\frac{\\partial}{\\partial y}(2yz^4) - \\frac{\\partial}{\\partial z}(-2x^2yz) = 2z^4 - (-2x^2y) = 2z^4 + 2x^2y \\\\\n",
    "(\\nabla \\times \\mathbf{V})_y &= \\frac{\\partial}{\\partial z}(xz^3) - \\frac{\\partial}{\\partial x}(2yz^4) = 3xz^2 - 0 = 3xz^2 \\\\\n",
    "(\\nabla \\times \\mathbf{V})_z &= \\frac{\\partial}{\\partial x}(-2x^2yz) - \\frac{\\partial}{\\partial y}(xz^3) = -4xyz - 0 = -4xyz\n",
    "\\end{aligned}\n",
    "$$\n",
    "Zusammenstellen zur Matrix\n",
    "$$\n",
    "\\nabla \\times \\mathbf{V} =\n",
    "\\begin{vmatrix}\n",
    "\\mathbf{i} & \\mathbf{j} & \\mathbf{k} \\\\\n",
    "\\frac{\\partial}{\\partial x} & \\frac{\\partial}{\\partial y} & \\frac{\\partial}{\\partial z} \\\\\n",
    "xz^3 & -2x^2yz & 2yz^4\n",
    "\\end{vmatrix}\n",
    "$$\n",
    "Im Punkt (1, -1, 1)\n",
    "$$\n",
    "\\begin{aligned}\n",
    "(\\nabla \\times \\mathbf{V})_x(1, -1, 1) &= 2(1) + 2(1)^2(-1) = 2 - 2 = 0 \\\\\n",
    "(\\nabla \\times \\mathbf{V})_y(1, -1, 1) &= 3(1)(1) = 3 \\\\\n",
    "(\\nabla \\times \\mathbf{V})_z(1, -1, 1) &= -4(1)(-1)(1) = 4\n",
    "\\end{aligned}\n",
    "$$\n"
   ]
  },
  {
   "cell_type": "code",
   "execution_count": null,
   "metadata": {},
   "outputs": [],
   "source": [
    "V = sp.Matrix([xz**3, -2x**2yz, 2yz**4])\n",
    "\n",
    "# Rotation berechnen\n",
    "rot_V = sp.Matrix([sp.diff(V[2], y) - sp.diff(V[1], z),\n",
    "                   sp.diff(V[0], z) - sp.diff(V[2], x),\n",
    "                   sp.diff(V[1], x) - sp.diff(V[0], y)])\n",
    "\n",
    "# Rotation im Punkt (1, -1, 1)\n",
    "rot_V_P = rot_V.subs({x: 1, y: -1, z: 1})\n",
    "\n",
    "rot_V, rot_V_P"
   ]
  },
  {
   "cell_type": "markdown",
   "metadata": {},
   "source": [
    "### Aufgabe 5\n",
    "\n",
    "Bilden Sie das vollständige Differential nachstehender Funktionen:\n",
    "\n",
    "a) $f(x,y)=x^2y$  \n",
    "b) $f(x,y)=e^{x/y}$  \n",
    "c) $f(x,y)=\\sqrt{x^2+y^2}$\n"
   ]
  },
  {
   "cell_type": "markdown",
   "metadata": {},
   "source": [
    "a) $f(x, y) = x^2y$\n",
    "$$\n",
    "df = \\frac{\\partial f}{\\partial x} dx + \\frac{\\partial f}{\\partial y} dy = 2xy \\, dx + x^2 \\, dy\n",
    "$$\n",
    "b) $f(x, y) = e^{x/y}$\n",
    "$$\n",
    "df = \\frac{\\partial f}{\\partial x} dx + \\frac{\\partial f}{\\partial y} dy = \\frac{e^{x/y}}{y} \\, dx - \\frac{xe^{x/y}}{y^2} \\, dy\n",
    "$$\n",
    "c) $f(x, y) = \\sqrt{x^2 + y^2}$\n",
    "$$\n",
    "df = \\frac{\\partial f}{\\partial x} dx + \\frac{\\partial f}{\\partial y} dy = \\frac{x}{\\sqrt{x^2 + y^2}} \\, dx + \\frac{y}{\\sqrt{x^2 + y^2}} \\, dy\n",
    "$$"
   ]
  },
  {
   "cell_type": "code",
   "execution_count": null,
   "metadata": {},
   "outputs": [],
   "source": [
    "# Funktionen\n",
    "f1 = x**2 * y\n",
    "f2 = sp.exp(x/y)\n",
    "f3 = sp.sqrt(x**2 + y**2)\n",
    "\n",
    "# Differentiale\n",
    "df1 = sp.diff(f1, x) * sp.Symbol('dx') + sp.diff(f1, y) * sp.Symbol('dy')\n",
    "df2 = sp.diff(f2, x) * sp.Symbol('dx') + sp.diff(f2, y) * sp.Symbol('dy')\n",
    "df3 = sp.diff(f3, x) * sp.Symbol('dx') + sp.diff(f3, y) * sp.Symbol('dy')\n",
    "\n",
    "df1, df2, df3"
   ]
  },
  {
   "cell_type": "markdown",
   "metadata": {},
   "source": [
    "### Aufgabe 6\n",
    "\n",
    "Der Flächeninhalt eines Kreisabschnitts ergibt sich aus\n",
    "$A=\\frac{r^2}{2}(\\alpha-\\sin{\\alpha})$ für $\\alpha$ im Bogenmaß. Wie\n",
    "groß ist der maximale Fehler von $A$, wenn $r=(8.2\\pm0.05)$ cm und\n",
    "$\\alpha=(126\\pm1)^\\circ$ gemessen wurden.\n"
   ]
  },
  {
   "cell_type": "markdown",
   "metadata": {},
   "source": [
    "Der maximale Fehler von $A$ wird bestimmt durch:\n",
    "$$\n",
    "\\Delta A \\approx \\left| \\frac{\\partial A}{\\partial r} \\right| \\Delta r + \\left| \\frac{\\partial A}{\\partial \\alpha} \\right| \\Delta \\alpha\n",
    "$$\n",
    "\n",
    "Die partiellen Ableitungen sind:\n",
    "$$\n",
    "\\frac{\\partial A}{\\partial r} = r (\\alpha - \\sin(\\alpha)), \\quad \\frac{\\partial A}{\\partial \\alpha} = \\frac{r^2}{2} (1 - \\cos(\\alpha))\n",
    "$$\n",
    "\n",
    "Einsetzen der Werte $r = 8.2 \\pm 0.05 \\, \\text{cm}$ und $\\alpha = 126^\\circ \\pm 1^\\circ$:\n",
    "$$\n",
    "\\Delta A \\approx \\left| 8.2 \\cdot (2.199 - \\sin(2.199)) \\right| 0.05 + \\left| \\frac{8.2^2}{2} (1 - \\cos(2.199)) \\right| \\cdot \\left( \\frac{1^\\circ}{57.2958} \\right)\n",
    "$$"
   ]
  },
  {
   "cell_type": "code",
   "execution_count": null,
   "metadata": {},
   "outputs": [],
   "source": [
    "r, alpha = sp.symbols('r alpha')\n",
    "A = (r**2 / 2) * (alpha - sp.sin(alpha))\n",
    "\n",
    "dA_dr = sp.diff(A, r)\n",
    "dA_dalpha = sp.diff(A, alpha)\n",
    "\n",
    "r_val = 8.2\n",
    "alpha_val = sp.rad(126)\n",
    "dr = 0.05\n",
    "dalpha = sp.rad(1)\n",
    "\n",
    "error_A = sp.Abs(dA_dr.subs({r: r_val, alpha: alpha_val})) * dr + sp.Abs(dA_dalpha.subs({r: r_val, alpha: alpha_val})) * dalpha\n",
    "\n",
    "error_A"
   ]
  },
  {
   "cell_type": "markdown",
   "metadata": {},
   "source": [
    "### Aufgabe 7\n",
    "\n",
    "In einem Gleichstromkreis wurden $U=(220\\pm3) \\textrm{V}$,$R_1=(78\\pm1) \\Omega$\n",
    "und $R_2=(54\\pm1) \\Omega$ gemessen. Wie groß ist der maximale Fehler\n",
    "der Stromstärke $I$ bei Serienschaltung:\n",
    "\n",
    "$$\n",
    "I=U/(R_1+R_2)\n",
    "$$\n",
    "\n"
   ]
  },
  {
   "cell_type": "markdown",
   "metadata": {},
   "source": [
    "Der maximale Fehler von $I$ wird bestimmt durch:\n",
    "$$\n",
    "\\Delta I \\approx \\left| \\frac{\\partial I}{\\partial U} \\right| \\Delta U + \\left| \\frac{\\partial I}{\\partial R_1} \\right| \\Delta R_1 + \\left| \\frac{\\partial I}{\\partial R_2} \\right| \\Delta R_2\n",
    "$$\n",
    "\n",
    "Die partiellen Ableitungen sind:\n",
    "$$\n",
    "\\frac{\\partial I}{\\partial U} = \\frac{1}{R_1 + R_2}, \\quad \\frac{\\partial I}{\\partial R_1} = -\\frac{U}{(R_1 + R_2)^2}, \\quad \\frac{\\partial I}{\\partial R_2} = -\\frac{U}{(R_1 + R_2)^2}\n",
    "$$\n",
    "\n",
    "Einsetzen der Werte:\n",
    "$$\n",
    "\\Delta I \\approx \\left| \\frac{1}{132} \\right| 3 + \\left| -\\frac{220}{132^2} \\right| 1 + \\left| -\\frac{220}{132^2} \\right| 1\n",
    "$$"
   ]
  },
  {
   "cell_type": "code",
   "execution_count": null,
   "metadata": {},
   "outputs": [],
   "source": [
    "U, R1, R2 = sp.symbols('U R1 R2')\n",
    "I = U / (R1 + R2)\n",
    "\n",
    "dI_dU = sp.diff(I, U)\n",
    "dI_dR1 = sp.diff(I, R1)\n",
    "dI_dR2 = sp.diff(I, R2)\n",
    "\n",
    "U_val = 220\n",
    "R1_val = 78\n",
    "R2_val = 54\n",
    "dU = 3\n",
    "dR1 = 1\n",
    "dR2 = 1\n",
    "\n",
    "error_I = sp.Abs(dI_dU.subs({U: U_val, R1: R1_val, R2: R2_val})) * dU + sp.Abs(dI_dR1.subs({U: U_val, R1: R1_val, R2: R2_val})) * dR1 + sp.Abs(dI_dR2.subs({U: U_val, R1: R1_val, R2: R2_val})) * dR2\n",
    "\n",
    "error_I"
   ]
  },
  {
   "cell_type": "markdown",
   "metadata": {},
   "source": [
    "### Aufgabe 8\n",
    "\n",
    "In Fortsetzung des vorangegangengen Beispiels, wie groß ist der maximale Fehler\n",
    "der Stromstärke $I$ bei Parallelschaltung: \n",
    "\n",
    "$$\n",
    "I=U/R_1+U/R_2\n",
    "$$\n",
    "\n"
   ]
  },
  {
   "cell_type": "markdown",
   "metadata": {},
   "source": [
    "Der maximale Fehler von $I$ wird bestimmt durch:\n",
    "$$\n",
    "\\Delta I \\approx \\left| \\frac{\\partial I}{\\partial U} \\right| \\Delta U + \\left| \\frac{\\partial I}{\\partial R_1} \\right| \\Delta R_1 + \\left| \\frac{\\partial I}{\\partial R_2} \\right| \\Delta R_2\n",
    "$$\n",
    "\n",
    "Die partiellen Ableitungen sind:\n",
    "$$\n",
    "\\frac{\\partial I}{\\partial U} = \\frac{1}{R_1} + \\frac{1}{R_2}, \\quad \\frac{\\partial I}{\\partial R_1} = -\\frac{U}{R_1^2}, \\quad \\frac{\\partial I}{\\partial R_2} = -\\frac{U}{R_2^2}\n",
    "$$\n",
    "\n",
    "Einsetzen der Werte:\n",
    "$$\n",
    "\\Delta I \\approx \\left| \\frac{1}{78} + \\frac{1}{54} \\right| 3 + \\left| -\\frac{220}{78^2} \\right| 1 + \\left| -\\frac{220}{54^2} \\right| 1\n",
    "$$"
   ]
  },
  {
   "cell_type": "code",
   "execution_count": null,
   "metadata": {},
   "outputs": [],
   "source": [
    "I = U / R1 + U / R2\n",
    "\n",
    "# Partielle Ableitungen\n",
    "dI_dU = sp.diff(I, U)\n",
    "dI_dR1 = sp.diff(I, R1)\n",
    "dI_dR2 = sp.diff(I, R2)\n",
    "\n",
    "# Werte\n",
    "U_val = 220\n",
    "R1_val = 78\n",
    "R2_val = 54\n",
    "dU = 3\n",
    "dR1 = 1\n",
    "dR2 = 1\n",
    "\n",
    "# Fehlerberechnung\n",
    "error_I = sp.Abs(dI_dU.subs({U: U_val, R1: R1_val, R2: R2_val})) * dU + sp.Abs(dI_dR1.subs({U: U_val, R1: R1_val, R2: R2_val})) * dR1 + sp.Abs(dI_dR2.subs({U: U_val, R1: R1_val, R2: R2_val})) * dR2\n",
    "\n",
    "error_I"
   ]
  }
 ],
 "metadata": {
  "kernelspec": {
   "display_name": "Python 3",
   "language": "python",
   "name": "python3"
  },
  "language_info": {
   "codemirror_mode": {
    "name": "ipython",
    "version": 3
   },
   "file_extension": ".py",
   "mimetype": "text/x-python",
   "name": "python",
   "nbconvert_exporter": "python",
   "pygments_lexer": "ipython3",
   "version": "3.7.8"
  }
 },
 "nbformat": 4,
 "nbformat_minor": 2
}
