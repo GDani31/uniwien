{
 "cells": [
  {
   "cell_type": "markdown",
   "metadata": {},
   "source": [
    "# Aufgabenblatt 7"
   ]
  },
  {
   "cell_type": "markdown",
   "metadata": {},
   "source": [
    "## Eindimensionale Analysis – Bestimmte Integrale"
   ]
  },
  {
   "cell_type": "code",
   "execution_count": null,
   "metadata": {},
   "outputs": [],
   "source": [
    "from sympy import *\n",
    "x = symbols(\"x\", real = true)"
   ]
  },
  {
   "cell_type": "code",
   "execution_count": null,
   "metadata": {},
   "outputs": [],
   "source": [
    "def plot_functions(f1, f2, x_min, x_max, y_min, y_max):\n",
    "    p = plot(f1, xlim=(x_min, x_max), ylim=(y_min, y_max), show=False, label=\"f\", legend=true)\n",
    "    p.extend(plot(f2, xlim=(x_min, x_max), ylim=(y_min, y_max), show=False, label=\"g\"))\n",
    "    p.show()"
   ]
  },
  {
   "cell_type": "markdown",
   "metadata": {},
   "source": [
    "### Aufgabe 1\n",
    "\n",
    "Berechnen Sie die Fläche zwischen den Funktionen $f$ und $g$ im\n",
    "Intervall zwischen den reellwertigen Schnittpunkten beider\n",
    "Funktionen:\n",
    "\n",
    "$$\n",
    "f(x)=x^2,g(x)=\\sqrt{x}\n",
    "$$\n",
    "\n",
    "Plotten Sie die beiden Funktionen."
   ]
  },
  {
   "cell_type": "code",
   "execution_count": null,
   "metadata": {},
   "outputs": [],
   "source": [
    "f = x**2\n",
    "g = sqrt(x)\n",
    "\n",
    "plot_functions(f, g, -2, 5, -2, 10)"
   ]
  },
  {
   "cell_type": "markdown",
   "metadata": {},
   "source": [
    "### Aufgabe 2\n",
    "\n",
    "Berechnen Sie die Fläche zwischen den Funktionen $f$ und $g$ im\n",
    "Intervall zwischen den reellwertigen Schnittpunkten beider\n",
    "Funktionen:\n",
    "\n",
    "$$\n",
    "f(x)=4x,g(x)=x^2+2x-3\n",
    "$$\n",
    "\n",
    "Plotten Sie die beiden Funktionen."
   ]
  },
  {
   "cell_type": "markdown",
   "metadata": {},
   "source": [
    "### Aufgabe 3\n",
    "\n",
    "Berechnen Sie die Fläche zwischen den Funktionen $f$ und $g$ im\n",
    "Intervall zwischen den reellwertigen Schnittpunkten beider\n",
    "Funktionen:\n",
    "\n",
    "$$\n",
    "f(x)=\\log{x},g(x)=(\\log{x})^2\n",
    "$$\n",
    "\n",
    "Plotten Sie die beiden Funktionen."
   ]
  },
  {
   "cell_type": "markdown",
   "metadata": {},
   "source": [
    "### Aufgabe 4\n",
    "\n",
    "Dreht man eine Kurve mit $y=f(x)$ um die $x$-Achse, so beträgt das\n",
    "Volumen des entstehenden Drehkörpers:\n",
    "\n",
    "$$V=\\pi\\int_a^b{y^2dx}$$\n",
    "\n",
    "Die Kurve mit $y=\\cosh{x}$ rotiert um die $x$-Achse. Berechnen Sie\n",
    "das Volumen des Drehkörpers zwischen $a=0$ und $b=2$.\n",
    "\n",
    "Plotten Sie die Kurve."
   ]
  },
  {
   "cell_type": "markdown",
   "metadata": {},
   "source": [
    "### Aufgabe 5\n",
    "\n",
    "Dreht man eine Kurve mit $y=f(x)$ um die $y$-Achse, so beträgt das\n",
    "Volumen des entstehenden Drehkörpers:\n",
    "\n",
    "$$V=\\pi\\int_{y_1}^{y_2}{x^2dy}$$\n",
    "\n",
    "Die Hyperbel $\\frac{x^2}{a^2}-\\frac{y^2}{b^2}=1$ rotiert um die\n",
    "$y$-Achse. Berechnen Sie das Volumen des Drehkörpers zwischen\n",
    "$y_1=-c$ und $y_2=c$.\n",
    "\n",
    "Plotten Sie die Hyperbel."
   ]
  },
  {
   "cell_type": "markdown",
   "metadata": {},
   "source": [
    "### Aufgabe 6\n",
    "\n",
    "Die Bogenlänge $s$ eines Stücks der Kurve mit $y=f(x)$ zwischen\n",
    "$x=a$ und $x=b$ ergibt sich aus:\n",
    "\n",
    "$$s=\\int_{a}^{b}{\\sqrt{1+y'^2}dx}$$\n",
    "\n",
    "Berechnen Sie den Umfang der gleichseitigen Astroide, deren\n",
    "Gleichung $x^{2/3}+y^{2/3}=r^{2/3}$ lautet.\n",
    "\n",
    "Plotten Sie die Astroide."
   ]
  },
  {
   "cell_type": "markdown",
   "metadata": {},
   "source": [
    "### Aufgabe 7\n",
    "\n",
    "Dreht man eine Kurve mit $y=f(x)$ um die $x$-Achse, so ist die\n",
    "Mantelfläche des entstehenden Drehkörpers:\n",
    "\n",
    "$$M=2\\pi\\int_a^b{y\\sqrt{1+y'^2}dx}$$\n",
    "\n",
    "Eine kubische Parabel mit $y=x^3$ rotiert um die $x$-Achse. Wie groß\n",
    "ist die Mantelfläche für $a=0$ und $b=1$?\n",
    "\n",
    "Plotten Sie die Parabel."
   ]
  },
  {
   "cell_type": "markdown",
   "metadata": {},
   "source": [
    "### Aufgabe 8\n",
    "\n",
    "\n",
    "Die Flächenschwerpunktskoordinaten $x_0,y_0$ einer Fläche $A$\n",
    "ergeben sich aus den statischen Momenten $M_y,M_x$:\n",
    "\n",
    "$$A=\\int_a^bydx, M_y=\\int_a^bxydx, M_x=\\frac{1}{2}\\int_a^by^2dx, x_0=\\frac{M_y}{A}, y_0=\\frac{M_x}{A}$$\n",
    "\n",
    "Berechnen Sie die Flächenschwerpunktskoordinaten für einen Halbkreis\n",
    "mit $M(0|0)$ und $y\\geq0$.\n",
    "\n",
    "Plotten Sie den Halbkreis."
   ]
  }
 ],
 "metadata": {
  "kernelspec": {
   "display_name": "Python 3",
   "language": "python",
   "name": "python3"
  },
  "language_info": {
   "codemirror_mode": {
    "name": "ipython",
    "version": 3
   },
   "file_extension": ".py",
   "mimetype": "text/x-python",
   "name": "python",
   "nbconvert_exporter": "python",
   "pygments_lexer": "ipython3",
   "version": "3.7.8"
  }
 },
 "nbformat": 4,
 "nbformat_minor": 2
}
