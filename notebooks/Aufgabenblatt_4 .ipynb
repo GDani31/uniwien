{
 "cells": [
  {
   "cell_type": "markdown",
   "metadata": {},
   "source": [
    "# Aufgabenblatt 4"
   ]
  },
  {
   "cell_type": "markdown",
   "metadata": {},
   "source": [
    "## Eindimensionale Analysis – Grenzwerte"
   ]
  },
  {
   "cell_type": "markdown",
   "metadata": {},
   "source": [
    "### Aufgabe 1\n",
    "\n",
    "Bestimmen Sie folgenden Grenzwert:\n",
    "\n",
    "$$\n",
    "\\lim_{x \\rightarrow 4} \\frac{x-4}{x^2-x-12}\n",
    "$$\n",
    "\n",
    "Plotten Sie die Funktion."
   ]
  },
  {
   "cell_type": "markdown",
   "metadata": {},
   "source": [
    "### Aufgabe 2\n",
    "\n",
    "Bestimmen Sie folgenden Grenzwert:\n",
    "\n",
    "$$\n",
    "\\lim_{x \\rightarrow -1} \\frac{x^2+3x+2}{x^4+4x+3}\n",
    "$$\n",
    "\n",
    "Plotten Sie die Funktion."
   ]
  },
  {
   "cell_type": "markdown",
   "metadata": {},
   "source": [
    "### Aufgabe 3\n",
    "\n",
    "Bestimmen Sie folgenden Grenzwert:\n",
    "\n",
    "$$\n",
    "\\lim_{x \\rightarrow 1} \\frac{x^4+2x^2-3}{x^2-3x+2}\n",
    "$$\n",
    "\n",
    "Plotten Sie die Funktion."
   ]
  },
  {
   "cell_type": "markdown",
   "metadata": {},
   "source": [
    "### Aufgabe 4\n",
    "\n",
    "Bestimmen Sie folgenden Grenzwert:\n",
    "\n",
    "$$\n",
    "\\lim_{x \\rightarrow 0}x^2\\log{x}\n",
    "$$\n",
    "\n",
    "Plotten Sie die Funktion."
   ]
  },
  {
   "cell_type": "markdown",
   "metadata": {},
   "source": [
    "### Aufgabe 5\n",
    "\n",
    "Bestimmen Sie folgenden Grenzwert:\n",
    "\n",
    "$$\n",
    "\\lim_{x \\rightarrow 0} \\frac{\\sin{x}}{x}\n",
    "$$\n",
    "\n",
    "Plotten Sie die Funktion."
   ]
  },
  {
   "cell_type": "markdown",
   "metadata": {},
   "source": [
    "### Aufgabe 6\n",
    "\n",
    "\n",
    "Bestimmen Sie folgenden Grenzwert:\n",
    "\n",
    "$$\n",
    "\\lim_{x \\rightarrow 0} x^{(x^2)}\n",
    "$$\n",
    "\n",
    "Plotten Sie die Funktion.\n"
   ]
  },
  {
   "cell_type": "markdown",
   "metadata": {},
   "source": [
    "### Aufgabe 7\n",
    "\n",
    "Bestimmen Sie folgenden Grenzwert:\n",
    "\n",
    "$$\n",
    "\\lim_{x \\rightarrow \\infty} (\\log{(x+1)}-\\log{x})\n",
    "$$\n",
    "\n",
    "Plotten Sie die Funktion."
   ]
  },
  {
   "cell_type": "markdown",
   "metadata": {},
   "source": [
    "### Aufgabe 8\n",
    "\n",
    "Bestimmen Sie folgenden Grenzwert:\n",
    "\n",
    "$$\n",
    "\\lim_{x \\rightarrow 0} (\\sin{x})^x\n",
    "$$\n",
    "\n",
    "Plotten Sie die Funktion."
   ]
  }
 ],
 "metadata": {
  "kernelspec": {
   "display_name": "Python 3",
   "language": "python",
   "name": "python3"
  },
  "language_info": {
   "codemirror_mode": {
    "name": "ipython",
    "version": 3
   },
   "file_extension": ".py",
   "mimetype": "text/x-python",
   "name": "python",
   "nbconvert_exporter": "python",
   "pygments_lexer": "ipython3",
   "version": "3.7.8"
  }
 },
 "nbformat": 4,
 "nbformat_minor": 2
}
